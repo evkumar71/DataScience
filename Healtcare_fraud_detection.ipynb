{
 "cells": [
  {
   "cell_type": "markdown",
   "id": "e74e883e-c756-47c8-95c7-0a66c1d006be",
   "metadata": {},
   "source": [
    "# Problem Statement\n",
    "\n",
    "Fradulent Medicare claims is a serious problem impacting the healthcare industry. The purpose of this project is to build a predictive model to detect such claims and help insurance companies to act on those."
   ]
  },
  {
   "cell_type": "markdown",
   "id": "baf3fb04-e6aa-427b-b71f-b3c46621c675",
   "metadata": {
    "tags": []
   },
   "source": [
    "# Project Structure\n",
    "\n",
    "* Data Understading\n",
    "* Data Prepration\n",
    "* Exploratory Data Analysis & Feature Engineering\n",
    "* Modelling\n",
    "* Model Evaluation\n",
    "* Deployment"
   ]
  },
  {
   "cell_type": "markdown",
   "id": "3ec7cde4-daea-48db-9fe2-609732d2a55b",
   "metadata": {},
   "source": [
    "# Data Understanding\n",
    "\n",
    "As a first step, all sample files will be imported into data frames and preliminary analysis is done."
   ]
  },
  {
   "cell_type": "code",
   "execution_count": 4,
   "id": "0edce7c0-ad47-49cf-8d7b-40a788eafd8e",
   "metadata": {},
   "outputs": [],
   "source": [
    "import pandas as pd\n",
    "import numpy as np\n",
    "import matplotlib.pyplot as plt\n",
    "import seaborn as sns\n",
    "\n",
    "sns.set(rc={\"figure.figsize\":(15, 10)})"
   ]
  },
  {
   "cell_type": "code",
   "execution_count": 6,
   "id": "05155b62-4003-4ce8-8ad9-fd7e19698a9f",
   "metadata": {},
   "outputs": [],
   "source": [
    "file_path=\"./fraud_data\"\n",
    "in_patient=f\"{file_path}/Train_Inpatientdata-1542865627584.csv\"\n",
    "out_patient=f\"{file_path}/Train_Outpatientdata-1542865627584.csv\"\n",
    "bene=f\"{file_path}/Train_Beneficiarydata-1542865627584.csv\"\n",
    "labelled=f\"{file_path}/Train-1542865627584.csv\""
   ]
  },
  {
   "cell_type": "code",
   "execution_count": 7,
   "id": "49ceab39-a545-4674-8e18-eddac9750779",
   "metadata": {},
   "outputs": [],
   "source": [
    "df_in = pd.read_csv(in_patient)\n",
    "df_out = pd.read_csv(out_patient)\n",
    "df_bene = pd.read_csv(bene)\n",
    "df_lab = pd.read_csv(labelled)"
   ]
  },
  {
   "cell_type": "code",
   "execution_count": null,
   "id": "291307e7-ad01-479b-82ad-9642ec4a2ca8",
   "metadata": {},
   "outputs": [],
   "source": []
  },
  {
   "cell_type": "markdown",
   "id": "97e98437-a0e3-476a-9a16-fd73439c186c",
   "metadata": {},
   "source": [
    "# Data Preparation"
   ]
  },
  {
   "cell_type": "markdown",
   "id": "794796a3-4e36-48f7-97a2-b305b6709834",
   "metadata": {},
   "source": [
    "# Exploratory Data Analysis"
   ]
  },
  {
   "cell_type": "markdown",
   "id": "ab5b294d-290a-4a9c-bd4a-c951f116dec7",
   "metadata": {},
   "source": [
    "# Modeling"
   ]
  },
  {
   "cell_type": "code",
   "execution_count": null,
   "id": "ce4ce2fe-7cc7-41e0-83a2-9a4ad3b28ec3",
   "metadata": {},
   "outputs": [],
   "source": []
  }
 ],
 "metadata": {
  "kernelspec": {
   "display_name": "Python 3 (ipykernel)",
   "language": "python",
   "name": "python3"
  },
  "language_info": {
   "codemirror_mode": {
    "name": "ipython",
    "version": 3
   },
   "file_extension": ".py",
   "mimetype": "text/x-python",
   "name": "python",
   "nbconvert_exporter": "python",
   "pygments_lexer": "ipython3",
   "version": "3.9.13"
  }
 },
 "nbformat": 4,
 "nbformat_minor": 5
}
