{
 "cells": [
  {
   "cell_type": "markdown",
   "id": "e74e883e-c756-47c8-95c7-0a66c1d006be",
   "metadata": {},
   "source": [
    "# Problem Statement\n",
    "\n",
    "Fradulent Medicare claims is a serious problem impacting the healthcare industry. The purpose of this project is to build a predictive model to detect such claims and prevent insurance companies from making payments for those claims."
   ]
  },
  {
   "cell_type": "markdown",
   "id": "baf3fb04-e6aa-427b-b71f-b3c46621c675",
   "metadata": {
    "tags": []
   },
   "source": [
    "# Project Structure\n",
    "\n",
    "* Data Understading\n",
    "* Data Prepration\n",
    "* Exploratory Data Analysis & Feature Engineering\n",
    "* Modelling\n",
    "* Model Evaluation\n",
    "* Deployment"
   ]
  },
  {
   "cell_type": "markdown",
   "id": "3ec7cde4-daea-48db-9fe2-609732d2a55b",
   "metadata": {},
   "source": [
    "# Data Understanding"
   ]
  },
  {
   "cell_type": "markdown",
   "id": "97e98437-a0e3-476a-9a16-fd73439c186c",
   "metadata": {},
   "source": [
    "# Data Preparation"
   ]
  },
  {
   "cell_type": "markdown",
   "id": "794796a3-4e36-48f7-97a2-b305b6709834",
   "metadata": {},
   "source": [
    "# Exploratory Data Analysis"
   ]
  },
  {
   "cell_type": "markdown",
   "id": "ab5b294d-290a-4a9c-bd4a-c951f116dec7",
   "metadata": {},
   "source": [
    "# Modeling"
   ]
  },
  {
   "cell_type": "code",
   "execution_count": null,
   "id": "ce4ce2fe-7cc7-41e0-83a2-9a4ad3b28ec3",
   "metadata": {},
   "outputs": [],
   "source": []
  }
 ],
 "metadata": {
  "kernelspec": {
   "display_name": "Python 3 (ipykernel)",
   "language": "python",
   "name": "python3"
  },
  "language_info": {
   "codemirror_mode": {
    "name": "ipython",
    "version": 3
   },
   "file_extension": ".py",
   "mimetype": "text/x-python",
   "name": "python",
   "nbconvert_exporter": "python",
   "pygments_lexer": "ipython3",
   "version": "3.9.13"
  }
 },
 "nbformat": 4,
 "nbformat_minor": 5
}
