{
 "cells": [
  {
   "cell_type": "markdown",
   "id": "e74e883e-c756-47c8-95c7-0a66c1d006be",
   "metadata": {},
   "source": [
    "# Problem Statement\n",
    "\n",
    "Fradulent Medicare claims is a serious problem impacting the healthcare industry. The purpose of this project is to build a predictive model to detect such claims and help insurance companies to act on those."
   ]
  },
  {
   "cell_type": "markdown",
   "id": "baf3fb04-e6aa-427b-b71f-b3c46621c675",
   "metadata": {
    "tags": []
   },
   "source": [
    "# Project Structure\n",
    "\n",
    "- Data Understading\n",
    "- Data Prepration\n",
    "- Exploratory Data Analysis & Feature Engineering\n",
    "- Modelling\n",
    "- Model Evaluation\n",
    "- Deployment"
   ]
  },
  {
   "cell_type": "markdown",
   "id": "3ec7cde4-daea-48db-9fe2-609732d2a55b",
   "metadata": {},
   "source": [
    "# Data Understanding\n",
    "\n",
    "As a first step, all sample files will be imported into data frames and preliminary analysis is done."
   ]
  },
  {
   "cell_type": "code",
   "execution_count": 1,
   "id": "0edce7c0-ad47-49cf-8d7b-40a788eafd8e",
   "metadata": {},
   "outputs": [],
   "source": [
    "import pandas as pd\n",
    "import numpy as np\n",
    "import matplotlib.pyplot as plt\n",
    "import seaborn as sns\n",
    "from sklearn.preprocessing import OneHotEncoder\n",
    "\n",
    "sns.set(rc={\"figure.figsize\":(10, 5)})"
   ]
  },
  {
   "cell_type": "code",
   "execution_count": 2,
   "id": "05155b62-4003-4ce8-8ad9-fd7e19698a9f",
   "metadata": {},
   "outputs": [],
   "source": [
    "file_path=\"./fraud_data\"\n",
    "in_patient=f\"{file_path}/Train_Inpatientdata-1542865627584.csv\"\n",
    "out_patient=f\"{file_path}/Train_Outpatientdata-1542865627584.csv\"\n",
    "bene=f\"{file_path}/Train_Beneficiarydata-1542865627584.csv\"\n",
    "labelled=f\"{file_path}/Train-1542865627584.csv\""
   ]
  },
  {
   "cell_type": "code",
   "execution_count": 3,
   "id": "49ceab39-a545-4674-8e18-eddac9750779",
   "metadata": {},
   "outputs": [],
   "source": [
    "df_in = pd.read_csv(in_patient)\n",
    "df_out = pd.read_csv(out_patient)\n",
    "df_bene = pd.read_csv(bene)\n",
    "df_lab = pd.read_csv(labelled)"
   ]
  },
  {
   "cell_type": "markdown",
   "id": "97e98437-a0e3-476a-9a16-fd73439c186c",
   "metadata": {},
   "source": [
    "# Data Preparation"
   ]
  },
  {
   "cell_type": "markdown",
   "id": "2d4095ab-7fe3-43a6-ab86-fe2f489cf9be",
   "metadata": {},
   "source": [
    "## **Labelled data**"
   ]
  },
  {
   "cell_type": "code",
   "execution_count": 4,
   "id": "304b0ae1-9a9b-44c3-84d7-acc03605e5b8",
   "metadata": {},
   "outputs": [
    {
     "name": "stdout",
     "output_type": "stream",
     "text": [
      "<class 'pandas.core.frame.DataFrame'>\n",
      "RangeIndex: 5410 entries, 0 to 5409\n",
      "Data columns (total 2 columns):\n",
      " #   Column          Non-Null Count  Dtype \n",
      "---  ------          --------------  ----- \n",
      " 0   Provider        5410 non-null   object\n",
      " 1   PotentialFraud  5410 non-null   object\n",
      "dtypes: object(2)\n",
      "memory usage: 84.7+ KB\n"
     ]
    }
   ],
   "source": [
    "df_lab.info()"
   ]
  },
  {
   "cell_type": "code",
   "execution_count": 5,
   "id": "a2da3c37-57de-45cb-b08e-bac0155b5362",
   "metadata": {},
   "outputs": [
    {
     "data": {
      "text/plain": [
       "<AxesSubplot:xlabel='PotentialFraud', ylabel='count'>"
      ]
     },
     "execution_count": 5,
     "metadata": {},
     "output_type": "execute_result"
    },
    {
     "data": {
      "image/png": "[encoded data removed]",
      "text/plain": [
       "<Figure size 1000x500 with 1 Axes>"
      ]
     },
     "metadata": {},
     "output_type": "display_data"
    }
   ],
   "source": [
    "sns.countplot(x='PotentialFraud', data=df_lab)"
   ]
  },
  {
   "cell_type": "code",
   "execution_count": null,
   "id": "b5bfd5c5-2b40-47b0-be3a-d70ad104ebd9",
   "metadata": {},
   "outputs": [],
   "source": []
  },
  {
   "cell_type": "code",
   "execution_count": null,
   "id": "dae16d76-fa0f-45a9-918d-fee96ecc61d4",
   "metadata": {},
   "outputs": [],
   "source": []
  },
  {
   "cell_type": "markdown",
   "id": "59f72fa4-c340-4abc-be55-15b9e241059c",
   "metadata": {},
   "source": [
    "## **Inpatient data**\n",
    "\n",
    "**Convert datatypes**"
   ]
  },
  {
   "cell_type": "code",
   "execution_count": 6,
   "id": "63f18e0f-7b69-4d8b-b382-0bb996e287a5",
   "metadata": {},
   "outputs": [],
   "source": [
    "df_in['ClaimStartDt'] = pd.to_datetime(df_in['ClaimStartDt'], infer_datetime_format=True)\n",
    "df_in['ClaimEndDt'] = pd.to_datetime(df_in['ClaimEndDt'], infer_datetime_format=True)\n",
    "df_in['claim_duration'] = (df_in['ClaimEndDt'] - df_in['ClaimStartDt']).dt.days"
   ]
  },
  {
   "cell_type": "code",
   "execution_count": 7,
   "id": "9853ce78-6aa3-43d0-be47-c8cef49f25f6",
   "metadata": {},
   "outputs": [],
   "source": [
    "df_in['AttendingPhysician'] = df_in['AttendingPhysician'].fillna(\"None\")\n",
    "df_in['OperatingPhysician'] = df_in['OperatingPhysician'].fillna(\"None\")\n",
    "df_in['OtherPhysician'] = df_in['OtherPhysician'].fillna(\"None\")"
   ]
  },
  {
   "cell_type": "code",
   "execution_count": 8,
   "id": "82b130ee-f1e9-4314-b834-67b0bd375c7f",
   "metadata": {},
   "outputs": [],
   "source": [
    "# df_in['AttendingPhysician'] = df_in['AttendingPhysician'].astype(pd.StringDtype())\n",
    "\n",
    "# not-working\n",
    "for col in df_in.columns: \n",
    "    if df_in[col].dtype == 'object':\n",
    "        df_in[col] = df_in[col].astype('str')"
   ]
  },
  {
   "cell_type": "code",
   "execution_count": 9,
   "id": "8efcd06b-a58a-44cc-ad64-127bdb19c784",
   "metadata": {},
   "outputs": [],
   "source": [
    "df_in_corr = df_in.loc[:, ['InscClaimAmtReimbursed',\n",
    "                              'ClmProcedureCode_1','ClmProcedureCode_2','ClmProcedureCode_3',\n",
    "                              'ClmProcedureCode_4','ClmProcedureCode_5']\n",
    "                             ].corr()\n",
    "df_in_corr = round(df_in_corr.corr(), 2)"
   ]
  },
  {
   "cell_type": "code",
   "execution_count": 10,
   "id": "2e40290f-58f6-4ca6-8414-f75cf48a86a2",
   "metadata": {},
   "outputs": [],
   "source": [
    "# sns.heatmap(df_in_corr, annot=True)"
   ]
  },
  {
   "cell_type": "markdown",
   "id": "33bbd87f-1b79-4086-bc42-0b0995bb16a7",
   "metadata": {},
   "source": [
    "**Merge labelled data with inpatient data**"
   ]
  },
  {
   "cell_type": "code",
   "execution_count": 11,
   "id": "58b7f8af-02d5-4b32-8801-5816b9a5ad34",
   "metadata": {},
   "outputs": [],
   "source": [
    "df_in = df_in.merge(df_lab, how='left', left_on='Provider', right_on='Provider')"
   ]
  },
  {
   "cell_type": "code",
   "execution_count": 12,
   "id": "da1b5ebf-9be4-4d0b-8bef-81884c925f2f",
   "metadata": {},
   "outputs": [
    {
     "data": {
      "text/plain": [
       "<AxesSubplot:>"
      ]
     },
     "execution_count": 12,
     "metadata": {},
     "output_type": "execute_result"
    },
    {
     "data": {
      "image/png": "[encoded data removed]",
      "text/plain": [
       "<Figure size 1000x500 with 1 Axes>"
      ]
     },
     "metadata": {},
     "output_type": "display_data"
    }
   ],
   "source": [
    "sns.heatmap(df_in.isnull(),yticklabels=False,cbar=False,cmap='viridis')"
   ]
  },
  {
   "cell_type": "markdown",
   "id": "7f2fd706-34e9-43ee-a8fe-c7b2f7739ae2",
   "metadata": {},
   "source": [
    "**Create provider bins**"
   ]
  },
  {
   "cell_type": "code",
   "execution_count": 13,
   "id": "f9584261-bfbb-475a-b311-5d9b869561da",
   "metadata": {},
   "outputs": [],
   "source": [
    "tmp = df_in.groupby(['Provider']).size()\n",
    "tmp.name = 'Provcnt'"
   ]
  },
  {
   "cell_type": "code",
   "execution_count": 14,
   "id": "59ad6c1a-33c2-4149-ac3f-197e9c5b8371",
   "metadata": {},
   "outputs": [],
   "source": [
    "df_in_new = pd.merge(df_in, tmp, left_on = 'Provider', right_index=True)"
   ]
  },
  {
   "cell_type": "code",
   "execution_count": 15,
   "id": "979f73d4-01fb-4097-9b10-1cd09a4a9737",
   "metadata": {},
   "outputs": [],
   "source": [
    "bins = pd.cut(df_in_new.Provcnt, bins=4, labels=['low', 'med', 'high', 'top'])"
   ]
  },
  {
   "cell_type": "code",
   "execution_count": 16,
   "id": "c9ea3677-b28f-4399-9cb9-57d5ebd2b9f0",
   "metadata": {},
   "outputs": [
    {
     "data": {
      "text/plain": [
       "low     31732\n",
       "med      6961\n",
       "high     1265\n",
       "top       516\n",
       "Name: Provcnt, dtype: int64"
      ]
     },
     "execution_count": 16,
     "metadata": {},
     "output_type": "execute_result"
    }
   ],
   "source": [
    "bins.value_counts()"
   ]
  },
  {
   "cell_type": "code",
   "execution_count": 17,
   "id": "d791887f-c52e-43ee-b9ec-6e3cd1845334",
   "metadata": {},
   "outputs": [
    {
     "data": {
      "text/html": [
       "<div>\n",
       "<style scoped>\n",
       "    .dataframe tbody tr th:only-of-type {\n",
       "        vertical-align: middle;\n",
       "    }\n",
       "\n",
       "    .dataframe tbody tr th {\n",
       "        vertical-align: top;\n",
       "    }\n",
       "\n",
       "    .dataframe thead th {\n",
       "        text-align: right;\n",
       "    }\n",
       "</style>\n",
       "<table border=\"1\" class=\"dataframe\">\n",
       "  <thead>\n",
       "    <tr style=\"text-align: right;\">\n",
       "      <th></th>\n",
       "      <th>BeneID</th>\n",
       "      <th>ClaimID</th>\n",
       "      <th>ClaimStartDt</th>\n",
       "      <th>ClaimEndDt</th>\n",
       "      <th>Provider</th>\n",
       "      <th>InscClaimAmtReimbursed</th>\n",
       "      <th>AttendingPhysician</th>\n",
       "      <th>OperatingPhysician</th>\n",
       "      <th>OtherPhysician</th>\n",
       "      <th>AdmissionDt</th>\n",
       "      <th>...</th>\n",
       "      <th>ClmDiagnosisCode_10</th>\n",
       "      <th>ClmProcedureCode_1</th>\n",
       "      <th>ClmProcedureCode_2</th>\n",
       "      <th>ClmProcedureCode_3</th>\n",
       "      <th>ClmProcedureCode_4</th>\n",
       "      <th>ClmProcedureCode_5</th>\n",
       "      <th>ClmProcedureCode_6</th>\n",
       "      <th>claim_duration</th>\n",
       "      <th>PotentialFraud</th>\n",
       "      <th>Provcnt</th>\n",
       "    </tr>\n",
       "  </thead>\n",
       "  <tbody>\n",
       "    <tr>\n",
       "      <th>46</th>\n",
       "      <td>BENE11153</td>\n",
       "      <td>CLM44063</td>\n",
       "      <td>2009-03-25</td>\n",
       "      <td>2009-03-27</td>\n",
       "      <td>PRV52019</td>\n",
       "      <td>3000</td>\n",
       "      <td>PHY351641</td>\n",
       "      <td>PHY351641</td>\n",
       "      <td>None</td>\n",
       "      <td>2009-03-25</td>\n",
       "      <td>...</td>\n",
       "      <td>V4364</td>\n",
       "      <td>NaN</td>\n",
       "      <td>NaN</td>\n",
       "      <td>NaN</td>\n",
       "      <td>NaN</td>\n",
       "      <td>NaN</td>\n",
       "      <td>NaN</td>\n",
       "      <td>2</td>\n",
       "      <td>Yes</td>\n",
       "      <td>516</td>\n",
       "    </tr>\n",
       "    <tr>\n",
       "      <th>177</th>\n",
       "      <td>BENE11670</td>\n",
       "      <td>CLM37086</td>\n",
       "      <td>2009-02-05</td>\n",
       "      <td>2009-02-08</td>\n",
       "      <td>PRV52019</td>\n",
       "      <td>400</td>\n",
       "      <td>PHY416959</td>\n",
       "      <td>None</td>\n",
       "      <td>None</td>\n",
       "      <td>2009-02-05</td>\n",
       "      <td>...</td>\n",
       "      <td>nan</td>\n",
       "      <td>NaN</td>\n",
       "      <td>NaN</td>\n",
       "      <td>NaN</td>\n",
       "      <td>NaN</td>\n",
       "      <td>NaN</td>\n",
       "      <td>NaN</td>\n",
       "      <td>3</td>\n",
       "      <td>Yes</td>\n",
       "      <td>516</td>\n",
       "    </tr>\n",
       "    <tr>\n",
       "      <th>270</th>\n",
       "      <td>BENE11998</td>\n",
       "      <td>CLM62318</td>\n",
       "      <td>2009-08-03</td>\n",
       "      <td>2009-08-07</td>\n",
       "      <td>PRV52019</td>\n",
       "      <td>6000</td>\n",
       "      <td>PHY355567</td>\n",
       "      <td>PHY355567</td>\n",
       "      <td>PHY416093</td>\n",
       "      <td>2009-08-03</td>\n",
       "      <td>...</td>\n",
       "      <td>nan</td>\n",
       "      <td>5101.0</td>\n",
       "      <td>4019.0</td>\n",
       "      <td>NaN</td>\n",
       "      <td>NaN</td>\n",
       "      <td>NaN</td>\n",
       "      <td>NaN</td>\n",
       "      <td>4</td>\n",
       "      <td>Yes</td>\n",
       "      <td>516</td>\n",
       "    </tr>\n",
       "    <tr>\n",
       "      <th>437</th>\n",
       "      <td>BENE12624</td>\n",
       "      <td>CLM50035</td>\n",
       "      <td>2009-05-06</td>\n",
       "      <td>2009-05-10</td>\n",
       "      <td>PRV52019</td>\n",
       "      <td>7000</td>\n",
       "      <td>PHY395933</td>\n",
       "      <td>None</td>\n",
       "      <td>None</td>\n",
       "      <td>2009-05-06</td>\n",
       "      <td>...</td>\n",
       "      <td>nan</td>\n",
       "      <td>NaN</td>\n",
       "      <td>NaN</td>\n",
       "      <td>NaN</td>\n",
       "      <td>NaN</td>\n",
       "      <td>NaN</td>\n",
       "      <td>NaN</td>\n",
       "      <td>4</td>\n",
       "      <td>Yes</td>\n",
       "      <td>516</td>\n",
       "    </tr>\n",
       "    <tr>\n",
       "      <th>452</th>\n",
       "      <td>BENE12699</td>\n",
       "      <td>CLM57568</td>\n",
       "      <td>2009-06-29</td>\n",
       "      <td>2009-06-30</td>\n",
       "      <td>PRV52019</td>\n",
       "      <td>5000</td>\n",
       "      <td>PHY401599</td>\n",
       "      <td>None</td>\n",
       "      <td>None</td>\n",
       "      <td>2009-06-29</td>\n",
       "      <td>...</td>\n",
       "      <td>nan</td>\n",
       "      <td>NaN</td>\n",
       "      <td>NaN</td>\n",
       "      <td>NaN</td>\n",
       "      <td>NaN</td>\n",
       "      <td>NaN</td>\n",
       "      <td>NaN</td>\n",
       "      <td>1</td>\n",
       "      <td>Yes</td>\n",
       "      <td>516</td>\n",
       "    </tr>\n",
       "    <tr>\n",
       "      <th>...</th>\n",
       "      <td>...</td>\n",
       "      <td>...</td>\n",
       "      <td>...</td>\n",
       "      <td>...</td>\n",
       "      <td>...</td>\n",
       "      <td>...</td>\n",
       "      <td>...</td>\n",
       "      <td>...</td>\n",
       "      <td>...</td>\n",
       "      <td>...</td>\n",
       "      <td>...</td>\n",
       "      <td>...</td>\n",
       "      <td>...</td>\n",
       "      <td>...</td>\n",
       "      <td>...</td>\n",
       "      <td>...</td>\n",
       "      <td>...</td>\n",
       "      <td>...</td>\n",
       "      <td>...</td>\n",
       "      <td>...</td>\n",
       "      <td>...</td>\n",
       "    </tr>\n",
       "    <tr>\n",
       "      <th>40163</th>\n",
       "      <td>BENE158096</td>\n",
       "      <td>CLM56081</td>\n",
       "      <td>2009-06-17</td>\n",
       "      <td>2009-06-27</td>\n",
       "      <td>PRV52019</td>\n",
       "      <td>6000</td>\n",
       "      <td>PHY412022</td>\n",
       "      <td>PHY354694</td>\n",
       "      <td>None</td>\n",
       "      <td>2009-06-17</td>\n",
       "      <td>...</td>\n",
       "      <td>nan</td>\n",
       "      <td>8843.0</td>\n",
       "      <td>NaN</td>\n",
       "      <td>NaN</td>\n",
       "      <td>NaN</td>\n",
       "      <td>NaN</td>\n",
       "      <td>NaN</td>\n",
       "      <td>10</td>\n",
       "      <td>Yes</td>\n",
       "      <td>516</td>\n",
       "    </tr>\n",
       "    <tr>\n",
       "      <th>40185</th>\n",
       "      <td>BENE158173</td>\n",
       "      <td>CLM79948</td>\n",
       "      <td>2009-12-17</td>\n",
       "      <td>2009-12-21</td>\n",
       "      <td>PRV52019</td>\n",
       "      <td>7000</td>\n",
       "      <td>PHY384309</td>\n",
       "      <td>PHY384309</td>\n",
       "      <td>None</td>\n",
       "      <td>2009-12-17</td>\n",
       "      <td>...</td>\n",
       "      <td>nan</td>\n",
       "      <td>8703.0</td>\n",
       "      <td>NaN</td>\n",
       "      <td>NaN</td>\n",
       "      <td>NaN</td>\n",
       "      <td>NaN</td>\n",
       "      <td>NaN</td>\n",
       "      <td>4</td>\n",
       "      <td>Yes</td>\n",
       "      <td>516</td>\n",
       "    </tr>\n",
       "    <tr>\n",
       "      <th>40200</th>\n",
       "      <td>BENE158221</td>\n",
       "      <td>CLM62646</td>\n",
       "      <td>2009-08-05</td>\n",
       "      <td>2009-08-08</td>\n",
       "      <td>PRV52019</td>\n",
       "      <td>2000</td>\n",
       "      <td>PHY414382</td>\n",
       "      <td>PHY406681</td>\n",
       "      <td>None</td>\n",
       "      <td>2009-08-05</td>\n",
       "      <td>...</td>\n",
       "      <td>nan</td>\n",
       "      <td>8872.0</td>\n",
       "      <td>NaN</td>\n",
       "      <td>NaN</td>\n",
       "      <td>NaN</td>\n",
       "      <td>NaN</td>\n",
       "      <td>NaN</td>\n",
       "      <td>3</td>\n",
       "      <td>Yes</td>\n",
       "      <td>516</td>\n",
       "    </tr>\n",
       "    <tr>\n",
       "      <th>40305</th>\n",
       "      <td>BENE158590</td>\n",
       "      <td>CLM52889</td>\n",
       "      <td>2009-05-26</td>\n",
       "      <td>2009-05-27</td>\n",
       "      <td>PRV52019</td>\n",
       "      <td>5000</td>\n",
       "      <td>PHY393952</td>\n",
       "      <td>PHY393952</td>\n",
       "      <td>None</td>\n",
       "      <td>2009-05-26</td>\n",
       "      <td>...</td>\n",
       "      <td>nan</td>\n",
       "      <td>64.0</td>\n",
       "      <td>NaN</td>\n",
       "      <td>NaN</td>\n",
       "      <td>NaN</td>\n",
       "      <td>NaN</td>\n",
       "      <td>NaN</td>\n",
       "      <td>1</td>\n",
       "      <td>Yes</td>\n",
       "      <td>516</td>\n",
       "    </tr>\n",
       "    <tr>\n",
       "      <th>40422</th>\n",
       "      <td>BENE158970</td>\n",
       "      <td>CLM44251</td>\n",
       "      <td>2009-03-26</td>\n",
       "      <td>2009-03-31</td>\n",
       "      <td>PRV52019</td>\n",
       "      <td>7000</td>\n",
       "      <td>PHY337065</td>\n",
       "      <td>None</td>\n",
       "      <td>None</td>\n",
       "      <td>2009-03-26</td>\n",
       "      <td>...</td>\n",
       "      <td>nan</td>\n",
       "      <td>NaN</td>\n",
       "      <td>NaN</td>\n",
       "      <td>NaN</td>\n",
       "      <td>NaN</td>\n",
       "      <td>NaN</td>\n",
       "      <td>NaN</td>\n",
       "      <td>5</td>\n",
       "      <td>Yes</td>\n",
       "      <td>516</td>\n",
       "    </tr>\n",
       "  </tbody>\n",
       "</table>\n",
       "<p>516 rows × 33 columns</p>\n",
       "</div>"
      ],
      "text/plain": [
       "           BeneID   ClaimID ClaimStartDt ClaimEndDt  Provider  \\\n",
       "46      BENE11153  CLM44063   2009-03-25 2009-03-27  PRV52019   \n",
       "177     BENE11670  CLM37086   2009-02-05 2009-02-08  PRV52019   \n",
       "270     BENE11998  CLM62318   2009-08-03 2009-08-07  PRV52019   \n",
       "437     BENE12624  CLM50035   2009-05-06 2009-05-10  PRV52019   \n",
       "452     BENE12699  CLM57568   2009-06-29 2009-06-30  PRV52019   \n",
       "...           ...       ...          ...        ...       ...   \n",
       "40163  BENE158096  CLM56081   2009-06-17 2009-06-27  PRV52019   \n",
       "40185  BENE158173  CLM79948   2009-12-17 2009-12-21  PRV52019   \n",
       "40200  BENE158221  CLM62646   2009-08-05 2009-08-08  PRV52019   \n",
       "40305  BENE158590  CLM52889   2009-05-26 2009-05-27  PRV52019   \n",
       "40422  BENE158970  CLM44251   2009-03-26 2009-03-31  PRV52019   \n",
       "\n",
       "       InscClaimAmtReimbursed AttendingPhysician OperatingPhysician  \\\n",
       "46                       3000          PHY351641          PHY351641   \n",
       "177                       400          PHY416959               None   \n",
       "270                      6000          PHY355567          PHY355567   \n",
       "437                      7000          PHY395933               None   \n",
       "452                      5000          PHY401599               None   \n",
       "...                       ...                ...                ...   \n",
       "40163                    6000          PHY412022          PHY354694   \n",
       "40185                    7000          PHY384309          PHY384309   \n",
       "40200                    2000          PHY414382          PHY406681   \n",
       "40305                    5000          PHY393952          PHY393952   \n",
       "40422                    7000          PHY337065               None   \n",
       "\n",
       "      OtherPhysician AdmissionDt  ... ClmDiagnosisCode_10  ClmProcedureCode_1  \\\n",
       "46              None  2009-03-25  ...               V4364                 NaN   \n",
       "177             None  2009-02-05  ...                 nan                 NaN   \n",
       "270        PHY416093  2009-08-03  ...                 nan              5101.0   \n",
       "437             None  2009-05-06  ...                 nan                 NaN   \n",
       "452             None  2009-06-29  ...                 nan                 NaN   \n",
       "...              ...         ...  ...                 ...                 ...   \n",
       "40163           None  2009-06-17  ...                 nan              8843.0   \n",
       "40185           None  2009-12-17  ...                 nan              8703.0   \n",
       "40200           None  2009-08-05  ...                 nan              8872.0   \n",
       "40305           None  2009-05-26  ...                 nan                64.0   \n",
       "40422           None  2009-03-26  ...                 nan                 NaN   \n",
       "\n",
       "      ClmProcedureCode_2 ClmProcedureCode_3 ClmProcedureCode_4  \\\n",
       "46                   NaN                NaN                NaN   \n",
       "177                  NaN                NaN                NaN   \n",
       "270               4019.0                NaN                NaN   \n",
       "437                  NaN                NaN                NaN   \n",
       "452                  NaN                NaN                NaN   \n",
       "...                  ...                ...                ...   \n",
       "40163                NaN                NaN                NaN   \n",
       "40185                NaN                NaN                NaN   \n",
       "40200                NaN                NaN                NaN   \n",
       "40305                NaN                NaN                NaN   \n",
       "40422                NaN                NaN                NaN   \n",
       "\n",
       "      ClmProcedureCode_5 ClmProcedureCode_6 claim_duration PotentialFraud  \\\n",
       "46                   NaN                NaN              2            Yes   \n",
       "177                  NaN                NaN              3            Yes   \n",
       "270                  NaN                NaN              4            Yes   \n",
       "437                  NaN                NaN              4            Yes   \n",
       "452                  NaN                NaN              1            Yes   \n",
       "...                  ...                ...            ...            ...   \n",
       "40163                NaN                NaN             10            Yes   \n",
       "40185                NaN                NaN              4            Yes   \n",
       "40200                NaN                NaN              3            Yes   \n",
       "40305                NaN                NaN              1            Yes   \n",
       "40422                NaN                NaN              5            Yes   \n",
       "\n",
       "      Provcnt  \n",
       "46        516  \n",
       "177       516  \n",
       "270       516  \n",
       "437       516  \n",
       "452       516  \n",
       "...       ...  \n",
       "40163     516  \n",
       "40185     516  \n",
       "40200     516  \n",
       "40305     516  \n",
       "40422     516  \n",
       "\n",
       "[516 rows x 33 columns]"
      ]
     },
     "execution_count": 17,
     "metadata": {},
     "output_type": "execute_result"
    }
   ],
   "source": [
    "df_in_new[df_in_new['Provider'] == 'PRV52019']"
   ]
  },
  {
   "cell_type": "code",
   "execution_count": 18,
   "id": "bc38b0ae-10f2-4215-ac49-665656dadbba",
   "metadata": {},
   "outputs": [
    {
     "data": {
      "text/html": [
       "<div>\n",
       "<style scoped>\n",
       "    .dataframe tbody tr th:only-of-type {\n",
       "        vertical-align: middle;\n",
       "    }\n",
       "\n",
       "    .dataframe tbody tr th {\n",
       "        vertical-align: top;\n",
       "    }\n",
       "\n",
       "    .dataframe thead th {\n",
       "        text-align: right;\n",
       "    }\n",
       "</style>\n",
       "<table border=\"1\" class=\"dataframe\">\n",
       "  <thead>\n",
       "    <tr style=\"text-align: right;\">\n",
       "      <th></th>\n",
       "      <th>BeneID</th>\n",
       "      <th>ClaimID</th>\n",
       "      <th>ClaimStartDt</th>\n",
       "      <th>ClaimEndDt</th>\n",
       "      <th>Provider</th>\n",
       "      <th>InscClaimAmtReimbursed</th>\n",
       "      <th>AttendingPhysician</th>\n",
       "      <th>OperatingPhysician</th>\n",
       "      <th>OtherPhysician</th>\n",
       "      <th>AdmissionDt</th>\n",
       "      <th>...</th>\n",
       "      <th>ClmDiagnosisCode_10</th>\n",
       "      <th>ClmProcedureCode_1</th>\n",
       "      <th>ClmProcedureCode_2</th>\n",
       "      <th>ClmProcedureCode_3</th>\n",
       "      <th>ClmProcedureCode_4</th>\n",
       "      <th>ClmProcedureCode_5</th>\n",
       "      <th>ClmProcedureCode_6</th>\n",
       "      <th>claim_duration</th>\n",
       "      <th>PotentialFraud</th>\n",
       "      <th>Provcnt</th>\n",
       "    </tr>\n",
       "  </thead>\n",
       "  <tbody>\n",
       "    <tr>\n",
       "      <th>46</th>\n",
       "      <td>BENE11153</td>\n",
       "      <td>CLM44063</td>\n",
       "      <td>2009-03-25</td>\n",
       "      <td>2009-03-27</td>\n",
       "      <td>PRV52019</td>\n",
       "      <td>3000</td>\n",
       "      <td>PHY351641</td>\n",
       "      <td>PHY351641</td>\n",
       "      <td>None</td>\n",
       "      <td>2009-03-25</td>\n",
       "      <td>...</td>\n",
       "      <td>V4364</td>\n",
       "      <td>NaN</td>\n",
       "      <td>NaN</td>\n",
       "      <td>NaN</td>\n",
       "      <td>NaN</td>\n",
       "      <td>NaN</td>\n",
       "      <td>NaN</td>\n",
       "      <td>2</td>\n",
       "      <td>Yes</td>\n",
       "      <td>516</td>\n",
       "    </tr>\n",
       "    <tr>\n",
       "      <th>177</th>\n",
       "      <td>BENE11670</td>\n",
       "      <td>CLM37086</td>\n",
       "      <td>2009-02-05</td>\n",
       "      <td>2009-02-08</td>\n",
       "      <td>PRV52019</td>\n",
       "      <td>400</td>\n",
       "      <td>PHY416959</td>\n",
       "      <td>None</td>\n",
       "      <td>None</td>\n",
       "      <td>2009-02-05</td>\n",
       "      <td>...</td>\n",
       "      <td>nan</td>\n",
       "      <td>NaN</td>\n",
       "      <td>NaN</td>\n",
       "      <td>NaN</td>\n",
       "      <td>NaN</td>\n",
       "      <td>NaN</td>\n",
       "      <td>NaN</td>\n",
       "      <td>3</td>\n",
       "      <td>Yes</td>\n",
       "      <td>516</td>\n",
       "    </tr>\n",
       "    <tr>\n",
       "      <th>270</th>\n",
       "      <td>BENE11998</td>\n",
       "      <td>CLM62318</td>\n",
       "      <td>2009-08-03</td>\n",
       "      <td>2009-08-07</td>\n",
       "      <td>PRV52019</td>\n",
       "      <td>6000</td>\n",
       "      <td>PHY355567</td>\n",
       "      <td>PHY355567</td>\n",
       "      <td>PHY416093</td>\n",
       "      <td>2009-08-03</td>\n",
       "      <td>...</td>\n",
       "      <td>nan</td>\n",
       "      <td>5101.0</td>\n",
       "      <td>4019.0</td>\n",
       "      <td>NaN</td>\n",
       "      <td>NaN</td>\n",
       "      <td>NaN</td>\n",
       "      <td>NaN</td>\n",
       "      <td>4</td>\n",
       "      <td>Yes</td>\n",
       "      <td>516</td>\n",
       "    </tr>\n",
       "    <tr>\n",
       "      <th>437</th>\n",
       "      <td>BENE12624</td>\n",
       "      <td>CLM50035</td>\n",
       "      <td>2009-05-06</td>\n",
       "      <td>2009-05-10</td>\n",
       "      <td>PRV52019</td>\n",
       "      <td>7000</td>\n",
       "      <td>PHY395933</td>\n",
       "      <td>None</td>\n",
       "      <td>None</td>\n",
       "      <td>2009-05-06</td>\n",
       "      <td>...</td>\n",
       "      <td>nan</td>\n",
       "      <td>NaN</td>\n",
       "      <td>NaN</td>\n",
       "      <td>NaN</td>\n",
       "      <td>NaN</td>\n",
       "      <td>NaN</td>\n",
       "      <td>NaN</td>\n",
       "      <td>4</td>\n",
       "      <td>Yes</td>\n",
       "      <td>516</td>\n",
       "    </tr>\n",
       "    <tr>\n",
       "      <th>452</th>\n",
       "      <td>BENE12699</td>\n",
       "      <td>CLM57568</td>\n",
       "      <td>2009-06-29</td>\n",
       "      <td>2009-06-30</td>\n",
       "      <td>PRV52019</td>\n",
       "      <td>5000</td>\n",
       "      <td>PHY401599</td>\n",
       "      <td>None</td>\n",
       "      <td>None</td>\n",
       "      <td>2009-06-29</td>\n",
       "      <td>...</td>\n",
       "      <td>nan</td>\n",
       "      <td>NaN</td>\n",
       "      <td>NaN</td>\n",
       "      <td>NaN</td>\n",
       "      <td>NaN</td>\n",
       "      <td>NaN</td>\n",
       "      <td>NaN</td>\n",
       "      <td>1</td>\n",
       "      <td>Yes</td>\n",
       "      <td>516</td>\n",
       "    </tr>\n",
       "    <tr>\n",
       "      <th>...</th>\n",
       "      <td>...</td>\n",
       "      <td>...</td>\n",
       "      <td>...</td>\n",
       "      <td>...</td>\n",
       "      <td>...</td>\n",
       "      <td>...</td>\n",
       "      <td>...</td>\n",
       "      <td>...</td>\n",
       "      <td>...</td>\n",
       "      <td>...</td>\n",
       "      <td>...</td>\n",
       "      <td>...</td>\n",
       "      <td>...</td>\n",
       "      <td>...</td>\n",
       "      <td>...</td>\n",
       "      <td>...</td>\n",
       "      <td>...</td>\n",
       "      <td>...</td>\n",
       "      <td>...</td>\n",
       "      <td>...</td>\n",
       "      <td>...</td>\n",
       "    </tr>\n",
       "    <tr>\n",
       "      <th>40163</th>\n",
       "      <td>BENE158096</td>\n",
       "      <td>CLM56081</td>\n",
       "      <td>2009-06-17</td>\n",
       "      <td>2009-06-27</td>\n",
       "      <td>PRV52019</td>\n",
       "      <td>6000</td>\n",
       "      <td>PHY412022</td>\n",
       "      <td>PHY354694</td>\n",
       "      <td>None</td>\n",
       "      <td>2009-06-17</td>\n",
       "      <td>...</td>\n",
       "      <td>nan</td>\n",
       "      <td>8843.0</td>\n",
       "      <td>NaN</td>\n",
       "      <td>NaN</td>\n",
       "      <td>NaN</td>\n",
       "      <td>NaN</td>\n",
       "      <td>NaN</td>\n",
       "      <td>10</td>\n",
       "      <td>Yes</td>\n",
       "      <td>516</td>\n",
       "    </tr>\n",
       "    <tr>\n",
       "      <th>40185</th>\n",
       "      <td>BENE158173</td>\n",
       "      <td>CLM79948</td>\n",
       "      <td>2009-12-17</td>\n",
       "      <td>2009-12-21</td>\n",
       "      <td>PRV52019</td>\n",
       "      <td>7000</td>\n",
       "      <td>PHY384309</td>\n",
       "      <td>PHY384309</td>\n",
       "      <td>None</td>\n",
       "      <td>2009-12-17</td>\n",
       "      <td>...</td>\n",
       "      <td>nan</td>\n",
       "      <td>8703.0</td>\n",
       "      <td>NaN</td>\n",
       "      <td>NaN</td>\n",
       "      <td>NaN</td>\n",
       "      <td>NaN</td>\n",
       "      <td>NaN</td>\n",
       "      <td>4</td>\n",
       "      <td>Yes</td>\n",
       "      <td>516</td>\n",
       "    </tr>\n",
       "    <tr>\n",
       "      <th>40200</th>\n",
       "      <td>BENE158221</td>\n",
       "      <td>CLM62646</td>\n",
       "      <td>2009-08-05</td>\n",
       "      <td>2009-08-08</td>\n",
       "      <td>PRV52019</td>\n",
       "      <td>2000</td>\n",
       "      <td>PHY414382</td>\n",
       "      <td>PHY406681</td>\n",
       "      <td>None</td>\n",
       "      <td>2009-08-05</td>\n",
       "      <td>...</td>\n",
       "      <td>nan</td>\n",
       "      <td>8872.0</td>\n",
       "      <td>NaN</td>\n",
       "      <td>NaN</td>\n",
       "      <td>NaN</td>\n",
       "      <td>NaN</td>\n",
       "      <td>NaN</td>\n",
       "      <td>3</td>\n",
       "      <td>Yes</td>\n",
       "      <td>516</td>\n",
       "    </tr>\n",
       "    <tr>\n",
       "      <th>40305</th>\n",
       "      <td>BENE158590</td>\n",
       "      <td>CLM52889</td>\n",
       "      <td>2009-05-26</td>\n",
       "      <td>2009-05-27</td>\n",
       "      <td>PRV52019</td>\n",
       "      <td>5000</td>\n",
       "      <td>PHY393952</td>\n",
       "      <td>PHY393952</td>\n",
       "      <td>None</td>\n",
       "      <td>2009-05-26</td>\n",
       "      <td>...</td>\n",
       "      <td>nan</td>\n",
       "      <td>64.0</td>\n",
       "      <td>NaN</td>\n",
       "      <td>NaN</td>\n",
       "      <td>NaN</td>\n",
       "      <td>NaN</td>\n",
       "      <td>NaN</td>\n",
       "      <td>1</td>\n",
       "      <td>Yes</td>\n",
       "      <td>516</td>\n",
       "    </tr>\n",
       "    <tr>\n",
       "      <th>40422</th>\n",
       "      <td>BENE158970</td>\n",
       "      <td>CLM44251</td>\n",
       "      <td>2009-03-26</td>\n",
       "      <td>2009-03-31</td>\n",
       "      <td>PRV52019</td>\n",
       "      <td>7000</td>\n",
       "      <td>PHY337065</td>\n",
       "      <td>None</td>\n",
       "      <td>None</td>\n",
       "      <td>2009-03-26</td>\n",
       "      <td>...</td>\n",
       "      <td>nan</td>\n",
       "      <td>NaN</td>\n",
       "      <td>NaN</td>\n",
       "      <td>NaN</td>\n",
       "      <td>NaN</td>\n",
       "      <td>NaN</td>\n",
       "      <td>NaN</td>\n",
       "      <td>5</td>\n",
       "      <td>Yes</td>\n",
       "      <td>516</td>\n",
       "    </tr>\n",
       "  </tbody>\n",
       "</table>\n",
       "<p>516 rows × 33 columns</p>\n",
       "</div>"
      ],
      "text/plain": [
       "           BeneID   ClaimID ClaimStartDt ClaimEndDt  Provider  \\\n",
       "46      BENE11153  CLM44063   2009-03-25 2009-03-27  PRV52019   \n",
       "177     BENE11670  CLM37086   2009-02-05 2009-02-08  PRV52019   \n",
       "270     BENE11998  CLM62318   2009-08-03 2009-08-07  PRV52019   \n",
       "437     BENE12624  CLM50035   2009-05-06 2009-05-10  PRV52019   \n",
       "452     BENE12699  CLM57568   2009-06-29 2009-06-30  PRV52019   \n",
       "...           ...       ...          ...        ...       ...   \n",
       "40163  BENE158096  CLM56081   2009-06-17 2009-06-27  PRV52019   \n",
       "40185  BENE158173  CLM79948   2009-12-17 2009-12-21  PRV52019   \n",
       "40200  BENE158221  CLM62646   2009-08-05 2009-08-08  PRV52019   \n",
       "40305  BENE158590  CLM52889   2009-05-26 2009-05-27  PRV52019   \n",
       "40422  BENE158970  CLM44251   2009-03-26 2009-03-31  PRV52019   \n",
       "\n",
       "       InscClaimAmtReimbursed AttendingPhysician OperatingPhysician  \\\n",
       "46                       3000          PHY351641          PHY351641   \n",
       "177                       400          PHY416959               None   \n",
       "270                      6000          PHY355567          PHY355567   \n",
       "437                      7000          PHY395933               None   \n",
       "452                      5000          PHY401599               None   \n",
       "...                       ...                ...                ...   \n",
       "40163                    6000          PHY412022          PHY354694   \n",
       "40185                    7000          PHY384309          PHY384309   \n",
       "40200                    2000          PHY414382          PHY406681   \n",
       "40305                    5000          PHY393952          PHY393952   \n",
       "40422                    7000          PHY337065               None   \n",
       "\n",
       "      OtherPhysician AdmissionDt  ... ClmDiagnosisCode_10  ClmProcedureCode_1  \\\n",
       "46              None  2009-03-25  ...               V4364                 NaN   \n",
       "177             None  2009-02-05  ...                 nan                 NaN   \n",
       "270        PHY416093  2009-08-03  ...                 nan              5101.0   \n",
       "437             None  2009-05-06  ...                 nan                 NaN   \n",
       "452             None  2009-06-29  ...                 nan                 NaN   \n",
       "...              ...         ...  ...                 ...                 ...   \n",
       "40163           None  2009-06-17  ...                 nan              8843.0   \n",
       "40185           None  2009-12-17  ...                 nan              8703.0   \n",
       "40200           None  2009-08-05  ...                 nan              8872.0   \n",
       "40305           None  2009-05-26  ...                 nan                64.0   \n",
       "40422           None  2009-03-26  ...                 nan                 NaN   \n",
       "\n",
       "      ClmProcedureCode_2 ClmProcedureCode_3 ClmProcedureCode_4  \\\n",
       "46                   NaN                NaN                NaN   \n",
       "177                  NaN                NaN                NaN   \n",
       "270               4019.0                NaN                NaN   \n",
       "437                  NaN                NaN                NaN   \n",
       "452                  NaN                NaN                NaN   \n",
       "...                  ...                ...                ...   \n",
       "40163                NaN                NaN                NaN   \n",
       "40185                NaN                NaN                NaN   \n",
       "40200                NaN                NaN                NaN   \n",
       "40305                NaN                NaN                NaN   \n",
       "40422                NaN                NaN                NaN   \n",
       "\n",
       "      ClmProcedureCode_5 ClmProcedureCode_6 claim_duration PotentialFraud  \\\n",
       "46                   NaN                NaN              2            Yes   \n",
       "177                  NaN                NaN              3            Yes   \n",
       "270                  NaN                NaN              4            Yes   \n",
       "437                  NaN                NaN              4            Yes   \n",
       "452                  NaN                NaN              1            Yes   \n",
       "...                  ...                ...            ...            ...   \n",
       "40163                NaN                NaN             10            Yes   \n",
       "40185                NaN                NaN              4            Yes   \n",
       "40200                NaN                NaN              3            Yes   \n",
       "40305                NaN                NaN              1            Yes   \n",
       "40422                NaN                NaN              5            Yes   \n",
       "\n",
       "      Provcnt  \n",
       "46        516  \n",
       "177       516  \n",
       "270       516  \n",
       "437       516  \n",
       "452       516  \n",
       "...       ...  \n",
       "40163     516  \n",
       "40185     516  \n",
       "40200     516  \n",
       "40305     516  \n",
       "40422     516  \n",
       "\n",
       "[516 rows x 33 columns]"
      ]
     },
     "execution_count": 18,
     "metadata": {},
     "output_type": "execute_result"
    }
   ],
   "source": [
    "df_in_new[bins=='top']"
   ]
  },
  {
   "cell_type": "code",
   "execution_count": 19,
   "id": "a28d8523-4fe9-43cb-aa31-a2af13e63966",
   "metadata": {},
   "outputs": [
    {
     "data": {
      "text/plain": [
       "Yes    23402\n",
       "No     17072\n",
       "Name: PotentialFraud, dtype: int64"
      ]
     },
     "execution_count": 19,
     "metadata": {},
     "output_type": "execute_result"
    }
   ],
   "source": [
    "df_in.PotentialFraud.value_counts()"
   ]
  },
  {
   "cell_type": "code",
   "execution_count": 20,
   "id": "64d58570-08d2-4c13-b9a3-1c94459e0c2d",
   "metadata": {},
   "outputs": [
    {
     "data": {
      "text/plain": [
       "<AxesSubplot:xlabel='PotentialFraud', ylabel='count'>"
      ]
     },
     "execution_count": 20,
     "metadata": {},
     "output_type": "execute_result"
    },
    {
     "data": {
      "image/png": "[encoded data removed]",
      "text/plain": [
       "<Figure size 1000x500 with 1 Axes>"
      ]
     },
     "metadata": {},
     "output_type": "display_data"
    }
   ],
   "source": [
    "sns.countplot(x='PotentialFraud', data=df_in)"
   ]
  },
  {
   "cell_type": "code",
   "execution_count": null,
   "id": "4be1561d-d2a5-4511-943e-a477fcdf8555",
   "metadata": {},
   "outputs": [],
   "source": []
  },
  {
   "cell_type": "code",
   "execution_count": null,
   "id": "9dd41223-ef61-4725-885e-68a80e44c31f",
   "metadata": {},
   "outputs": [],
   "source": []
  },
  {
   "cell_type": "markdown",
   "id": "91424abd-fd02-4106-8220-11f075450d97",
   "metadata": {},
   "source": [
    "## **Outpatient data**"
   ]
  },
  {
   "cell_type": "code",
   "execution_count": 21,
   "id": "ca7584d2-b184-4f13-baaf-c2572f2000d6",
   "metadata": {},
   "outputs": [],
   "source": [
    "df_out['ClaimStartDt'] = pd.to_datetime(df_out['ClaimStartDt'], infer_datetime_format=True)\n",
    "df_out['ClaimEndDt'] = pd.to_datetime(df_out['ClaimEndDt'], infer_datetime_format=True)\n",
    "df_out['claim_duration'] = (df_out['ClaimEndDt'] - df_out['ClaimStartDt']).dt.days"
   ]
  },
  {
   "cell_type": "markdown",
   "id": "ce1d92bb-6ba8-489e-b085-a23e40e34007",
   "metadata": {},
   "source": [
    "**Merge labelled data with outpatient data**"
   ]
  },
  {
   "cell_type": "code",
   "execution_count": 22,
   "id": "d82606aa-7b66-4d81-9e98-94e5bd9d53e3",
   "metadata": {},
   "outputs": [],
   "source": [
    "df_out = df_out.merge(df_lab, how='left', left_on='Provider', right_on='Provider')"
   ]
  },
  {
   "cell_type": "code",
   "execution_count": 23,
   "id": "bf4ead07-04c6-4637-a461-dc98c19a280b",
   "metadata": {},
   "outputs": [
    {
     "data": {
      "text/plain": [
       "No     328343\n",
       "Yes    189394\n",
       "Name: PotentialFraud, dtype: int64"
      ]
     },
     "execution_count": 23,
     "metadata": {},
     "output_type": "execute_result"
    }
   ],
   "source": [
    "df_out.PotentialFraud.value_counts()"
   ]
  },
  {
   "cell_type": "code",
   "execution_count": 24,
   "id": "b3a24a3f-65ee-48c1-b3f7-455639792bd2",
   "metadata": {},
   "outputs": [
    {
     "data": {
      "text/plain": [
       "<AxesSubplot:xlabel='PotentialFraud', ylabel='count'>"
      ]
     },
     "execution_count": 24,
     "metadata": {},
     "output_type": "execute_result"
    },
    {
     "data": {
      "image/png": "[encoded data removed]",
      "text/plain": [
       "<Figure size 1000x500 with 1 Axes>"
      ]
     },
     "metadata": {},
     "output_type": "display_data"
    }
   ],
   "source": [
    "sns.countplot(x='PotentialFraud', data=df_out)"
   ]
  },
  {
   "cell_type": "code",
   "execution_count": 25,
   "id": "20cbec59-85a5-41db-9749-e56cf0438560",
   "metadata": {},
   "outputs": [],
   "source": [
    "df_out_corr = df_out.loc[:, ['InscClaimAmtReimbursed', 'DeductibleAmtPaid',\n",
    "                              'ClmProcedureCode_1','ClmProcedureCode_2','ClmProcedureCode_3',\n",
    "                              'ClmProcedureCode_4']\n",
    "                             ].corr()\n",
    "# df_out_corr = round(df_out_corr, 2)"
   ]
  },
  {
   "cell_type": "code",
   "execution_count": 26,
   "id": "46271ae2-7936-423e-be81-146d4226e6b6",
   "metadata": {},
   "outputs": [],
   "source": [
    "# sns.heatmap(df_out_corr, annot=True)"
   ]
  },
  {
   "cell_type": "code",
   "execution_count": 27,
   "id": "a68df7b0-bd34-4bab-a312-c80d84b89d70",
   "metadata": {},
   "outputs": [],
   "source": [
    "df_out['AttendingPhysician'] = df_out['AttendingPhysician'].fillna(\"None\")\n",
    "df_out['OperatingPhysician'] = df_out['OperatingPhysician'].fillna(\"None\")\n",
    "df_out['OtherPhysician'] = df_out['OtherPhysician'].fillna(\"None\")"
   ]
  },
  {
   "cell_type": "code",
   "execution_count": 28,
   "id": "8acedff6-cd7b-4114-b7ca-43186ec0012a",
   "metadata": {},
   "outputs": [
    {
     "data": {
      "text/plain": [
       "<AxesSubplot:>"
      ]
     },
     "execution_count": 28,
     "metadata": {},
     "output_type": "execute_result"
    },
    {
     "data": {
      "image/png": "[encoded data removed]",
      "text/plain": [
       "<Figure size 1000x500 with 1 Axes>"
      ]
     },
     "metadata": {},
     "output_type": "display_data"
    }
   ],
   "source": [
    "sns.heatmap(df_out.isnull(),yticklabels=False,cbar=False,cmap='viridis')"
   ]
  },
  {
   "cell_type": "code",
   "execution_count": null,
   "id": "55244c80-f227-49ff-bfc1-283716c5c295",
   "metadata": {},
   "outputs": [],
   "source": []
  },
  {
   "cell_type": "code",
   "execution_count": null,
   "id": "87200dc9-efe1-46c8-944f-a89471479061",
   "metadata": {},
   "outputs": [],
   "source": []
  },
  {
   "cell_type": "code",
   "execution_count": null,
   "id": "e2cc2602-db23-4cbb-8b8a-e40f9f966469",
   "metadata": {},
   "outputs": [],
   "source": []
  },
  {
   "cell_type": "code",
   "execution_count": null,
   "id": "6dfdd12b-dfe9-4502-bbab-618586cbbc3c",
   "metadata": {},
   "outputs": [],
   "source": []
  },
  {
   "cell_type": "markdown",
   "id": "2180dc43-ac06-4bcd-99ef-61212e33f201",
   "metadata": {},
   "source": [
    "## **Beneficiary data**"
   ]
  },
  {
   "cell_type": "code",
   "execution_count": 29,
   "id": "2272ca92-1416-44b3-980f-9611a01ddfff",
   "metadata": {},
   "outputs": [
    {
     "data": {
      "text/plain": [
       "<AxesSubplot:>"
      ]
     },
     "execution_count": 29,
     "metadata": {},
     "output_type": "execute_result"
    },
    {
     "data": {
      "image/png": "[encoded data removed]",
      "text/plain": [
       "<Figure size 1000x500 with 1 Axes>"
      ]
     },
     "metadata": {},
     "output_type": "display_data"
    }
   ],
   "source": [
    "sns.heatmap(df_bene.isnull(),yticklabels=False,cbar=False,cmap='viridis')"
   ]
  },
  {
   "cell_type": "code",
   "execution_count": 30,
   "id": "b475d267-ecc1-4622-a1cd-b7185602adb7",
   "metadata": {},
   "outputs": [],
   "source": [
    "df_bene['DOB'] = pd.to_datetime(df_bene['DOB'], format = '%Y-%m-%d')\n",
    "df_bene['DOD'] = pd.to_datetime(df_bene['DOD'], format = '%Y-%m-%d')"
   ]
  },
  {
   "cell_type": "markdown",
   "id": "b95ae45d-6a5a-4b8a-9f49-541ff23067f6",
   "metadata": {},
   "source": [
    "***Age***\n",
    "\n",
    "The max DOD date is 2009-01-12. This is used to fillin NaN values to cacluate age of beneficiary."
   ]
  },
  {
   "cell_type": "code",
   "execution_count": 31,
   "id": "4ecbf84a-f35e-4de1-9104-59d02105b82e",
   "metadata": {},
   "outputs": [],
   "source": [
    "df_bene['DOD'].fillna(\"2009-12-01\", inplace=True)\n",
    "df_bene['Age'] = df_bene['DOD'].dt.year - df_bene['DOB'].dt.year"
   ]
  },
  {
   "cell_type": "code",
   "execution_count": 32,
   "id": "bf4fabf7-e0d6-464c-9aa7-55a4048ea9ef",
   "metadata": {},
   "outputs": [],
   "source": [
    "# sns.heatmap(df_bene_corr, annot=True)"
   ]
  },
  {
   "cell_type": "code",
   "execution_count": 33,
   "id": "9a06849d-67de-4088-8767-d37537fe5001",
   "metadata": {},
   "outputs": [],
   "source": [
    "bene_age_tier = [\n",
    "    (df_bene['Age'] <= 30),\n",
    "    (df_bene['Age'] > 30) & (df_bene['Age'] <= 45),\n",
    "    (df_bene['Age'] > 45) & (df_bene['Age'] <= 64),\n",
    "    (df_bene['Age'] >= 65)\n",
    "    ]"
   ]
  },
  {
   "cell_type": "code",
   "execution_count": 34,
   "id": "3d2e89d5-6033-4ca4-9e8d-4be86f66fbba",
   "metadata": {},
   "outputs": [],
   "source": [
    "bene_age = df_bene['Age']\n",
    "bene_age = np.select(bene_age_tier, ['Young', 'Early middle' ,'Late middle', 'Senior'])"
   ]
  },
  {
   "cell_type": "code",
   "execution_count": 35,
   "id": "769a813f-d12b-4dd3-9303-f48ee7075760",
   "metadata": {},
   "outputs": [
    {
     "data": {
      "text/plain": [
       "<AxesSubplot:ylabel='count'>"
      ]
     },
     "execution_count": 35,
     "metadata": {},
     "output_type": "execute_result"
    },
    {
     "data": {
      "image/png": "[encoded data removed]",
      "text/plain": [
       "<Figure size 1000x500 with 1 Axes>"
      ]
     },
     "metadata": {},
     "output_type": "display_data"
    }
   ],
   "source": [
    "sns.countplot(x=bene_age)\n",
    "#sns.countplot(x='Age', data=df_bene)"
   ]
  },
  {
   "cell_type": "markdown",
   "id": "e28f72d8-fec8-416a-9eb7-7e600c1df960",
   "metadata": {},
   "source": [
    "**Bene claimed as inpatient or outpatient**"
   ]
  },
  {
   "cell_type": "code",
   "execution_count": 36,
   "id": "93ffdf4e-cfb3-4728-b827-c6a6bc1f846b",
   "metadata": {},
   "outputs": [],
   "source": [
    "df_bene['has_claimed_ip'] = df_bene['BeneID'].isin(df_in['BeneID'])\n",
    "df_bene['has_claimed_op'] = df_bene['BeneID'].isin(df_out['BeneID'])"
   ]
  },
  {
   "cell_type": "code",
   "execution_count": 37,
   "id": "e74ecd3a-9583-42f2-916f-9db9ab546df6",
   "metadata": {},
   "outputs": [
    {
     "data": {
      "text/plain": [
       "<AxesSubplot:xlabel='has_claimed_ip', ylabel='count'>"
      ]
     },
     "execution_count": 37,
     "metadata": {},
     "output_type": "execute_result"
    },
    {
     "data": {
      "image/png": "[encoded data removed]",
      "text/plain": [
       "<Figure size 1000x500 with 1 Axes>"
      ]
     },
     "metadata": {},
     "output_type": "display_data"
    }
   ],
   "source": [
    "sns.countplot(x='has_claimed_ip', data=df_bene)"
   ]
  },
  {
   "cell_type": "code",
   "execution_count": 38,
   "id": "ce797e24-2ad3-4e00-8f55-11bc1912da5a",
   "metadata": {},
   "outputs": [
    {
     "data": {
      "text/plain": [
       "<AxesSubplot:xlabel='has_claimed_op', ylabel='count'>"
      ]
     },
     "execution_count": 38,
     "metadata": {},
     "output_type": "execute_result"
    },
    {
     "data": {
      "image/png": "[encoded data removed]",
      "text/plain": [
       "<Figure size 1000x500 with 1 Axes>"
      ]
     },
     "metadata": {},
     "output_type": "display_data"
    }
   ],
   "source": [
    "sns.countplot(x='has_claimed_op', data=df_bene)"
   ]
  },
  {
   "cell_type": "markdown",
   "id": "7e676750-5145-4bb6-afd1-86dc1088853c",
   "metadata": {},
   "source": [
    "**Merge beneficiaries with inpatient & outpatient data**"
   ]
  },
  {
   "cell_type": "code",
   "execution_count": 39,
   "id": "672a33a6-93bd-4047-842a-039fafef2743",
   "metadata": {},
   "outputs": [],
   "source": [
    "df_in = df_in.merge(df_bene, how='left', left_on='BeneID', right_on='BeneID')\n",
    "df_out = df_out.merge(df_bene, how='left', left_on='BeneID', right_on='BeneID')"
   ]
  },
  {
   "cell_type": "code",
   "execution_count": null,
   "id": "3f0849cb-985a-4e08-a3d9-b7b318e8f654",
   "metadata": {},
   "outputs": [],
   "source": []
  },
  {
   "cell_type": "markdown",
   "id": "3745898c-b190-4413-908f-6a2aad929b48",
   "metadata": {},
   "source": [
    "**One-Hot-Encoder**"
   ]
  },
  {
   "cell_type": "code",
   "execution_count": 40,
   "id": "74794f98-4670-491b-8684-24ceb7721fac",
   "metadata": {},
   "outputs": [],
   "source": [
    "encoder = OneHotEncoder(handle_unknown='ignore')"
   ]
  },
  {
   "cell_type": "code",
   "execution_count": 41,
   "id": "09717807-7be1-473c-a3c3-22dba4a68cfb",
   "metadata": {},
   "outputs": [],
   "source": [
    "enc_df = pd.DataFrame(encoder.fit_transform(df_in[['Provider']]).toarray())"
   ]
  },
  {
   "cell_type": "code",
   "execution_count": 42,
   "id": "873454d6-9e9e-4227-893b-f3db07903d1f",
   "metadata": {},
   "outputs": [
    {
     "data": {
      "text/html": [
       "<div>\n",
       "<style scoped>\n",
       "    .dataframe tbody tr th:only-of-type {\n",
       "        vertical-align: middle;\n",
       "    }\n",
       "\n",
       "    .dataframe tbody tr th {\n",
       "        vertical-align: top;\n",
       "    }\n",
       "\n",
       "    .dataframe thead th {\n",
       "        text-align: right;\n",
       "    }\n",
       "</style>\n",
       "<table border=\"1\" class=\"dataframe\">\n",
       "  <thead>\n",
       "    <tr style=\"text-align: right;\">\n",
       "      <th></th>\n",
       "      <th>0</th>\n",
       "      <th>1</th>\n",
       "      <th>2</th>\n",
       "      <th>3</th>\n",
       "      <th>4</th>\n",
       "      <th>5</th>\n",
       "      <th>6</th>\n",
       "      <th>7</th>\n",
       "      <th>8</th>\n",
       "      <th>9</th>\n",
       "      <th>...</th>\n",
       "      <th>2082</th>\n",
       "      <th>2083</th>\n",
       "      <th>2084</th>\n",
       "      <th>2085</th>\n",
       "      <th>2086</th>\n",
       "      <th>2087</th>\n",
       "      <th>2088</th>\n",
       "      <th>2089</th>\n",
       "      <th>2090</th>\n",
       "      <th>2091</th>\n",
       "    </tr>\n",
       "  </thead>\n",
       "  <tbody>\n",
       "    <tr>\n",
       "      <th>0</th>\n",
       "      <td>0.0</td>\n",
       "      <td>0.0</td>\n",
       "      <td>0.0</td>\n",
       "      <td>0.0</td>\n",
       "      <td>0.0</td>\n",
       "      <td>0.0</td>\n",
       "      <td>0.0</td>\n",
       "      <td>0.0</td>\n",
       "      <td>0.0</td>\n",
       "      <td>0.0</td>\n",
       "      <td>...</td>\n",
       "      <td>0.0</td>\n",
       "      <td>0.0</td>\n",
       "      <td>0.0</td>\n",
       "      <td>0.0</td>\n",
       "      <td>0.0</td>\n",
       "      <td>0.0</td>\n",
       "      <td>0.0</td>\n",
       "      <td>0.0</td>\n",
       "      <td>0.0</td>\n",
       "      <td>0.0</td>\n",
       "    </tr>\n",
       "    <tr>\n",
       "      <th>1</th>\n",
       "      <td>0.0</td>\n",
       "      <td>0.0</td>\n",
       "      <td>0.0</td>\n",
       "      <td>0.0</td>\n",
       "      <td>0.0</td>\n",
       "      <td>0.0</td>\n",
       "      <td>0.0</td>\n",
       "      <td>0.0</td>\n",
       "      <td>0.0</td>\n",
       "      <td>0.0</td>\n",
       "      <td>...</td>\n",
       "      <td>0.0</td>\n",
       "      <td>0.0</td>\n",
       "      <td>0.0</td>\n",
       "      <td>0.0</td>\n",
       "      <td>0.0</td>\n",
       "      <td>0.0</td>\n",
       "      <td>0.0</td>\n",
       "      <td>0.0</td>\n",
       "      <td>0.0</td>\n",
       "      <td>0.0</td>\n",
       "    </tr>\n",
       "    <tr>\n",
       "      <th>2</th>\n",
       "      <td>0.0</td>\n",
       "      <td>0.0</td>\n",
       "      <td>0.0</td>\n",
       "      <td>0.0</td>\n",
       "      <td>0.0</td>\n",
       "      <td>0.0</td>\n",
       "      <td>0.0</td>\n",
       "      <td>0.0</td>\n",
       "      <td>0.0</td>\n",
       "      <td>0.0</td>\n",
       "      <td>...</td>\n",
       "      <td>0.0</td>\n",
       "      <td>0.0</td>\n",
       "      <td>0.0</td>\n",
       "      <td>0.0</td>\n",
       "      <td>0.0</td>\n",
       "      <td>0.0</td>\n",
       "      <td>0.0</td>\n",
       "      <td>0.0</td>\n",
       "      <td>0.0</td>\n",
       "      <td>0.0</td>\n",
       "    </tr>\n",
       "    <tr>\n",
       "      <th>3</th>\n",
       "      <td>0.0</td>\n",
       "      <td>0.0</td>\n",
       "      <td>0.0</td>\n",
       "      <td>0.0</td>\n",
       "      <td>0.0</td>\n",
       "      <td>0.0</td>\n",
       "      <td>0.0</td>\n",
       "      <td>0.0</td>\n",
       "      <td>0.0</td>\n",
       "      <td>0.0</td>\n",
       "      <td>...</td>\n",
       "      <td>0.0</td>\n",
       "      <td>0.0</td>\n",
       "      <td>0.0</td>\n",
       "      <td>0.0</td>\n",
       "      <td>0.0</td>\n",
       "      <td>0.0</td>\n",
       "      <td>0.0</td>\n",
       "      <td>0.0</td>\n",
       "      <td>0.0</td>\n",
       "      <td>0.0</td>\n",
       "    </tr>\n",
       "    <tr>\n",
       "      <th>4</th>\n",
       "      <td>0.0</td>\n",
       "      <td>0.0</td>\n",
       "      <td>0.0</td>\n",
       "      <td>0.0</td>\n",
       "      <td>0.0</td>\n",
       "      <td>0.0</td>\n",
       "      <td>0.0</td>\n",
       "      <td>0.0</td>\n",
       "      <td>0.0</td>\n",
       "      <td>0.0</td>\n",
       "      <td>...</td>\n",
       "      <td>0.0</td>\n",
       "      <td>0.0</td>\n",
       "      <td>0.0</td>\n",
       "      <td>0.0</td>\n",
       "      <td>0.0</td>\n",
       "      <td>0.0</td>\n",
       "      <td>0.0</td>\n",
       "      <td>0.0</td>\n",
       "      <td>0.0</td>\n",
       "      <td>0.0</td>\n",
       "    </tr>\n",
       "    <tr>\n",
       "      <th>...</th>\n",
       "      <td>...</td>\n",
       "      <td>...</td>\n",
       "      <td>...</td>\n",
       "      <td>...</td>\n",
       "      <td>...</td>\n",
       "      <td>...</td>\n",
       "      <td>...</td>\n",
       "      <td>...</td>\n",
       "      <td>...</td>\n",
       "      <td>...</td>\n",
       "      <td>...</td>\n",
       "      <td>...</td>\n",
       "      <td>...</td>\n",
       "      <td>...</td>\n",
       "      <td>...</td>\n",
       "      <td>...</td>\n",
       "      <td>...</td>\n",
       "      <td>...</td>\n",
       "      <td>...</td>\n",
       "      <td>...</td>\n",
       "      <td>...</td>\n",
       "    </tr>\n",
       "    <tr>\n",
       "      <th>40469</th>\n",
       "      <td>0.0</td>\n",
       "      <td>0.0</td>\n",
       "      <td>0.0</td>\n",
       "      <td>0.0</td>\n",
       "      <td>0.0</td>\n",
       "      <td>0.0</td>\n",
       "      <td>0.0</td>\n",
       "      <td>0.0</td>\n",
       "      <td>0.0</td>\n",
       "      <td>0.0</td>\n",
       "      <td>...</td>\n",
       "      <td>0.0</td>\n",
       "      <td>0.0</td>\n",
       "      <td>0.0</td>\n",
       "      <td>0.0</td>\n",
       "      <td>0.0</td>\n",
       "      <td>0.0</td>\n",
       "      <td>0.0</td>\n",
       "      <td>0.0</td>\n",
       "      <td>0.0</td>\n",
       "      <td>0.0</td>\n",
       "    </tr>\n",
       "    <tr>\n",
       "      <th>40470</th>\n",
       "      <td>0.0</td>\n",
       "      <td>0.0</td>\n",
       "      <td>0.0</td>\n",
       "      <td>0.0</td>\n",
       "      <td>0.0</td>\n",
       "      <td>0.0</td>\n",
       "      <td>0.0</td>\n",
       "      <td>0.0</td>\n",
       "      <td>0.0</td>\n",
       "      <td>0.0</td>\n",
       "      <td>...</td>\n",
       "      <td>0.0</td>\n",
       "      <td>0.0</td>\n",
       "      <td>0.0</td>\n",
       "      <td>0.0</td>\n",
       "      <td>0.0</td>\n",
       "      <td>0.0</td>\n",
       "      <td>0.0</td>\n",
       "      <td>0.0</td>\n",
       "      <td>0.0</td>\n",
       "      <td>0.0</td>\n",
       "    </tr>\n",
       "    <tr>\n",
       "      <th>40471</th>\n",
       "      <td>0.0</td>\n",
       "      <td>0.0</td>\n",
       "      <td>0.0</td>\n",
       "      <td>0.0</td>\n",
       "      <td>0.0</td>\n",
       "      <td>0.0</td>\n",
       "      <td>0.0</td>\n",
       "      <td>0.0</td>\n",
       "      <td>0.0</td>\n",
       "      <td>0.0</td>\n",
       "      <td>...</td>\n",
       "      <td>0.0</td>\n",
       "      <td>0.0</td>\n",
       "      <td>0.0</td>\n",
       "      <td>0.0</td>\n",
       "      <td>0.0</td>\n",
       "      <td>0.0</td>\n",
       "      <td>0.0</td>\n",
       "      <td>0.0</td>\n",
       "      <td>0.0</td>\n",
       "      <td>0.0</td>\n",
       "    </tr>\n",
       "    <tr>\n",
       "      <th>40472</th>\n",
       "      <td>0.0</td>\n",
       "      <td>0.0</td>\n",
       "      <td>0.0</td>\n",
       "      <td>0.0</td>\n",
       "      <td>0.0</td>\n",
       "      <td>0.0</td>\n",
       "      <td>0.0</td>\n",
       "      <td>0.0</td>\n",
       "      <td>0.0</td>\n",
       "      <td>0.0</td>\n",
       "      <td>...</td>\n",
       "      <td>0.0</td>\n",
       "      <td>0.0</td>\n",
       "      <td>0.0</td>\n",
       "      <td>0.0</td>\n",
       "      <td>0.0</td>\n",
       "      <td>0.0</td>\n",
       "      <td>0.0</td>\n",
       "      <td>0.0</td>\n",
       "      <td>0.0</td>\n",
       "      <td>0.0</td>\n",
       "    </tr>\n",
       "    <tr>\n",
       "      <th>40473</th>\n",
       "      <td>0.0</td>\n",
       "      <td>0.0</td>\n",
       "      <td>0.0</td>\n",
       "      <td>0.0</td>\n",
       "      <td>0.0</td>\n",
       "      <td>0.0</td>\n",
       "      <td>0.0</td>\n",
       "      <td>0.0</td>\n",
       "      <td>0.0</td>\n",
       "      <td>0.0</td>\n",
       "      <td>...</td>\n",
       "      <td>0.0</td>\n",
       "      <td>0.0</td>\n",
       "      <td>0.0</td>\n",
       "      <td>0.0</td>\n",
       "      <td>0.0</td>\n",
       "      <td>0.0</td>\n",
       "      <td>0.0</td>\n",
       "      <td>0.0</td>\n",
       "      <td>0.0</td>\n",
       "      <td>0.0</td>\n",
       "    </tr>\n",
       "  </tbody>\n",
       "</table>\n",
       "<p>40474 rows × 2092 columns</p>\n",
       "</div>"
      ],
      "text/plain": [
       "       0     1     2     3     4     5     6     7     8     9     ...  2082  \\\n",
       "0       0.0   0.0   0.0   0.0   0.0   0.0   0.0   0.0   0.0   0.0  ...   0.0   \n",
       "1       0.0   0.0   0.0   0.0   0.0   0.0   0.0   0.0   0.0   0.0  ...   0.0   \n",
       "2       0.0   0.0   0.0   0.0   0.0   0.0   0.0   0.0   0.0   0.0  ...   0.0   \n",
       "3       0.0   0.0   0.0   0.0   0.0   0.0   0.0   0.0   0.0   0.0  ...   0.0   \n",
       "4       0.0   0.0   0.0   0.0   0.0   0.0   0.0   0.0   0.0   0.0  ...   0.0   \n",
       "...     ...   ...   ...   ...   ...   ...   ...   ...   ...   ...  ...   ...   \n",
       "40469   0.0   0.0   0.0   0.0   0.0   0.0   0.0   0.0   0.0   0.0  ...   0.0   \n",
       "40470   0.0   0.0   0.0   0.0   0.0   0.0   0.0   0.0   0.0   0.0  ...   0.0   \n",
       "40471   0.0   0.0   0.0   0.0   0.0   0.0   0.0   0.0   0.0   0.0  ...   0.0   \n",
       "40472   0.0   0.0   0.0   0.0   0.0   0.0   0.0   0.0   0.0   0.0  ...   0.0   \n",
       "40473   0.0   0.0   0.0   0.0   0.0   0.0   0.0   0.0   0.0   0.0  ...   0.0   \n",
       "\n",
       "       2083  2084  2085  2086  2087  2088  2089  2090  2091  \n",
       "0       0.0   0.0   0.0   0.0   0.0   0.0   0.0   0.0   0.0  \n",
       "1       0.0   0.0   0.0   0.0   0.0   0.0   0.0   0.0   0.0  \n",
       "2       0.0   0.0   0.0   0.0   0.0   0.0   0.0   0.0   0.0  \n",
       "3       0.0   0.0   0.0   0.0   0.0   0.0   0.0   0.0   0.0  \n",
       "4       0.0   0.0   0.0   0.0   0.0   0.0   0.0   0.0   0.0  \n",
       "...     ...   ...   ...   ...   ...   ...   ...   ...   ...  \n",
       "40469   0.0   0.0   0.0   0.0   0.0   0.0   0.0   0.0   0.0  \n",
       "40470   0.0   0.0   0.0   0.0   0.0   0.0   0.0   0.0   0.0  \n",
       "40471   0.0   0.0   0.0   0.0   0.0   0.0   0.0   0.0   0.0  \n",
       "40472   0.0   0.0   0.0   0.0   0.0   0.0   0.0   0.0   0.0  \n",
       "40473   0.0   0.0   0.0   0.0   0.0   0.0   0.0   0.0   0.0  \n",
       "\n",
       "[40474 rows x 2092 columns]"
      ]
     },
     "execution_count": 42,
     "metadata": {},
     "output_type": "execute_result"
    }
   ],
   "source": [
    "enc_df"
   ]
  },
  {
   "cell_type": "code",
   "execution_count": 43,
   "id": "b7aeb845-9dff-46d3-abf6-5cbd0cfff4ae",
   "metadata": {},
   "outputs": [],
   "source": [
    "tmp = df_in.groupby(['Provider']).size()\n",
    "tmp.name = 'Provcnt'"
   ]
  },
  {
   "cell_type": "code",
   "execution_count": 44,
   "id": "afd58332-d134-4ac4-8045-e879432da286",
   "metadata": {},
   "outputs": [],
   "source": [
    "# df_all_new = pd.merge(df_all, tmp, left_on = 'Provider', right_index=True)"
   ]
  },
  {
   "cell_type": "code",
   "execution_count": 45,
   "id": "142864a8-44fd-40bd-aba5-94db141c32e8",
   "metadata": {},
   "outputs": [],
   "source": [
    "# bins = pd.cut(df_in.Provcnt, bins=2, labels=['low', 'high'])"
   ]
  },
  {
   "cell_type": "code",
   "execution_count": 46,
   "id": "b9b8a15d-22ea-4aae-901b-c093ca4c9a82",
   "metadata": {},
   "outputs": [
    {
     "data": {
      "text/plain": [
       "<AxesSubplot:xlabel='Gender', ylabel='count'>"
      ]
     },
     "execution_count": 46,
     "metadata": {},
     "output_type": "execute_result"
    },
    {
     "data": {
      "image/png": "[encoded data removed]",
      "text/plain": [
       "<Figure size 1000x500 with 1 Axes>"
      ]
     },
     "metadata": {},
     "output_type": "display_data"
    }
   ],
   "source": [
    "sns.countplot(x='Gender', data=df_bene)"
   ]
  },
  {
   "cell_type": "markdown",
   "id": "135bde95-0f38-4136-80e2-f274ec634c06",
   "metadata": {},
   "source": [
    "# **Diseases**"
   ]
  },
  {
   "cell_type": "markdown",
   "id": "215dfcd8-fa75-4d02-87ca-45af93b5a33b",
   "metadata": {},
   "source": [
    "**Alzheimers - inpatient**"
   ]
  },
  {
   "cell_type": "code",
   "execution_count": 47,
   "id": "3b49a22f-e01a-403d-b3b7-38b16854091d",
   "metadata": {},
   "outputs": [],
   "source": [
    "df_in_bene_Alz = df_in[df_in['ChronicCond_Alzheimer'] == 1]"
   ]
  },
  {
   "cell_type": "code",
   "execution_count": 48,
   "id": "be642016-950f-487e-9be9-a0100b74cb5b",
   "metadata": {},
   "outputs": [
    {
     "data": {
      "text/plain": [
       "Yes    11756\n",
       "No      8645\n",
       "Name: PotentialFraud, dtype: int64"
      ]
     },
     "execution_count": 48,
     "metadata": {},
     "output_type": "execute_result"
    }
   ],
   "source": [
    "df_in_bene_Alz.PotentialFraud.value_counts()"
   ]
  },
  {
   "cell_type": "code",
   "execution_count": 49,
   "id": "c353bf6a-cc59-4c60-bca6-8fb5ac78833c",
   "metadata": {},
   "outputs": [
    {
     "data": {
      "text/plain": [
       "<AxesSubplot:xlabel='PotentialFraud', ylabel='count'>"
      ]
     },
     "execution_count": 49,
     "metadata": {},
     "output_type": "execute_result"
    },
    {
     "data": {
      "image/png": "[encoded data removed]",
      "text/plain": [
       "<Figure size 1000x500 with 1 Axes>"
      ]
     },
     "metadata": {},
     "output_type": "display_data"
    }
   ],
   "source": [
    "sns.countplot(x='PotentialFraud', data=df_in_bene_Alz)"
   ]
  },
  {
   "cell_type": "markdown",
   "id": "11b95805-5a79-4306-ae5b-770ba76cb955",
   "metadata": {},
   "source": [
    "**Alzheimers - outpatient**"
   ]
  },
  {
   "cell_type": "code",
   "execution_count": 50,
   "id": "caac094f-2552-4335-9dce-074e3b22b9ce",
   "metadata": {},
   "outputs": [],
   "source": [
    "df_out_bene_Alz = df_out[df_out['ChronicCond_Alzheimer'] == 1]"
   ]
  },
  {
   "cell_type": "code",
   "execution_count": 51,
   "id": "97cac6bb-40c3-4ac1-96b1-4882df54d0d7",
   "metadata": {},
   "outputs": [
    {
     "data": {
      "text/plain": [
       "No     129335\n",
       "Yes     74591\n",
       "Name: PotentialFraud, dtype: int64"
      ]
     },
     "execution_count": 51,
     "metadata": {},
     "output_type": "execute_result"
    }
   ],
   "source": [
    "df_out_bene_Alz.PotentialFraud.value_counts()"
   ]
  },
  {
   "cell_type": "code",
   "execution_count": 52,
   "id": "b04f6d89-a226-4fbc-8d09-89c57cd54383",
   "metadata": {},
   "outputs": [
    {
     "data": {
      "text/plain": [
       "<AxesSubplot:xlabel='PotentialFraud', ylabel='count'>"
      ]
     },
     "execution_count": 52,
     "metadata": {},
     "output_type": "execute_result"
    },
    {
     "data": {
      "image/png": "[encoded data removed]",
      "text/plain": [
       "<Figure size 1000x500 with 1 Axes>"
      ]
     },
     "metadata": {},
     "output_type": "display_data"
    }
   ],
   "source": [
    "sns.countplot(x='PotentialFraud', data=df_out_bene_Alz)"
   ]
  },
  {
   "cell_type": "code",
   "execution_count": null,
   "id": "6919338d-6b49-4f43-9e93-e18744444423",
   "metadata": {},
   "outputs": [],
   "source": []
  },
  {
   "cell_type": "markdown",
   "id": "794796a3-4e36-48f7-97a2-b305b6709834",
   "metadata": {},
   "source": [
    "# Exploratory Data Analysis"
   ]
  },
  {
   "cell_type": "markdown",
   "id": "7def510b-2458-42c1-8a70-01d7b19a2dbb",
   "metadata": {},
   "source": [
    "**Target Labels**\n",
    "\n",
    "The target variable in the labelled dataset is \"PotentialFraud\" which indicates whether a provider is fradulent or not. Out of 5410 providers in total, 9.35% are fradulent."
   ]
  },
  {
   "cell_type": "code",
   "execution_count": 53,
   "id": "575d66d0-6d13-4c62-8ebd-900af3ac668d",
   "metadata": {},
   "outputs": [
    {
     "data": {
      "text/plain": [
       "<AxesSubplot:ylabel='PotentialFraud'>"
      ]
     },
     "execution_count": 53,
     "metadata": {},
     "output_type": "execute_result"
    },
    {
     "data": {
      "image/png": "[encoded data removed]",
      "text/plain": [
       "<Figure size 600x500 with 1 Axes>"
      ]
     },
     "metadata": {},
     "output_type": "display_data"
    }
   ],
   "source": [
    "target = df_lab[\"PotentialFraud\"]\n",
    "target.value_counts().plot.pie(autopct='%.2f',figsize=(6, 5))"
   ]
  },
  {
   "cell_type": "markdown",
   "id": "6ee950ba-44b5-48f3-9fbf-7a2a91c88b61",
   "metadata": {},
   "source": [
    "**Combine data frames**"
   ]
  },
  {
   "cell_type": "code",
   "execution_count": 54,
   "id": "7207c193-60fa-4fdf-b2a5-b16e23a02266",
   "metadata": {},
   "outputs": [],
   "source": [
    "df_all = pd.concat([df_in, df_out])"
   ]
  },
  {
   "cell_type": "markdown",
   "id": "c7cb5619-02d6-4fd6-90d8-6e95ea469825",
   "metadata": {},
   "source": [
    "**Convert datatype to Numeric**"
   ]
  },
  {
   "cell_type": "code",
   "execution_count": 55,
   "id": "abb75f6a-93d3-491a-bbe3-a3d549ff93fa",
   "metadata": {},
   "outputs": [],
   "source": [
    "# df_all_corr = df_all.loc[:, ['AttendingPhysician', 'OtherPhysician', 'OperatingPhysician'] ].corr()\n",
    "# df_all_corr = round(df_all_corr.corr(), 2)"
   ]
  },
  {
   "cell_type": "code",
   "execution_count": 56,
   "id": "84cbc748-16f3-404e-8afd-2fd1334346a3",
   "metadata": {},
   "outputs": [],
   "source": [
    "#sns.heatmap(df_all_corr, annot=True)"
   ]
  },
  {
   "cell_type": "code",
   "execution_count": 57,
   "id": "5cc8c6c7-d5a1-4a85-b3fd-ea7fce0e933c",
   "metadata": {},
   "outputs": [],
   "source": [
    "# df_all.loc[:, ['AttendingPhysician', 'OtherPhysician', 'OperatingPhysician']]"
   ]
  },
  {
   "cell_type": "code",
   "execution_count": null,
   "id": "efc093d9-9e34-4a5a-b49c-45bf5a534429",
   "metadata": {},
   "outputs": [],
   "source": []
  },
  {
   "cell_type": "markdown",
   "id": "9f567f53-662c-45a7-8b12-95c70bb46a4f",
   "metadata": {},
   "source": [
    "**Physician Fraud Analysis**"
   ]
  },
  {
   "cell_type": "code",
   "execution_count": 137,
   "id": "7a1b9c15-50e0-473a-bf3a-2e340cc94f4a",
   "metadata": {},
   "outputs": [],
   "source": [
    "df_all_fraud = df_all[df_all.PotentialFraud == 'Yes']"
   ]
  },
  {
   "cell_type": "code",
   "execution_count": 138,
   "id": "5c9c4e95-4b91-4afc-af13-9cb7a8acd6f9",
   "metadata": {},
   "outputs": [
    {
     "name": "stderr",
     "output_type": "stream",
     "text": [
      "/var/folders/tc/c8rjp8hn765724hng7xbcs5h0000gn/T/ipykernel_31669/2521671908.py:1: SettingWithCopyWarning: \n",
      "A value is trying to be set on a copy of a slice from a DataFrame\n",
      "\n",
      "See the caveats in the documentation: https://pandas.pydata.org/pandas-docs/stable/user_guide/indexing.html#returning-a-view-versus-a-copy\n",
      "  df_all_fraud['AttendingPhysician'].replace(to_replace=['None'], value=np.nan, inplace=True)\n"
     ]
    }
   ],
   "source": [
    "df_all_fraud['AttendingPhysician'].replace(to_replace=['None'], value=np.nan, inplace=True)"
   ]
  },
  {
   "cell_type": "code",
   "execution_count": 139,
   "id": "aac84961-4b12-42ef-9239-ecddf6835e41",
   "metadata": {},
   "outputs": [],
   "source": [
    "df_all_fraud = df_all_fraud.groupby(['AttendingPhysician', 'Provider']).size().reset_index(name='counts')"
   ]
  },
  {
   "cell_type": "code",
   "execution_count": 141,
   "id": "be9ea076-0278-4c21-a185-dddf66c0517d",
   "metadata": {},
   "outputs": [],
   "source": [
    "# df_all_fraud['Provider'].apply('str')\n",
    "# df_all_fraud['AttendingPhysician'].apply('str')"
   ]
  },
  {
   "cell_type": "code",
   "execution_count": 142,
   "id": "fd424213-752b-44cf-a117-52839b09a4fb",
   "metadata": {},
   "outputs": [],
   "source": [
    "lower_qrt, middle_qrt, upper_qrt = df_all_fraud.counts.quantile([0.25,0.5,0.75])"
   ]
  },
  {
   "cell_type": "code",
   "execution_count": 143,
   "id": "20764cee-9a0b-4c03-8e84-a2e78e18a462",
   "metadata": {},
   "outputs": [],
   "source": [
    "conditions = [(df_all_fraud.counts <= lower_qrt),\n",
    "              (df_all_fraud.counts > lower_qrt) & (df_all_fraud.counts <= middle_qrt),\n",
    "              (df_all_fraud.counts > middle_qrt) & (df_all_fraud.counts <= upper_qrt),\n",
    "              (df_all_fraud.counts > upper_qrt)\n",
    "             ]\n",
    "\n",
    "values = ['Normal' ,'Less suspicious', 'More suspicious', 'Fraud']"
   ]
  },
  {
   "cell_type": "code",
   "execution_count": 144,
   "id": "0d178b6e-345d-44e7-88ce-e310a77752d8",
   "metadata": {},
   "outputs": [],
   "source": [
    "df_all_fraud['Physician_Potential_Fraud'] = np.select(conditions, values)"
   ]
  },
  {
   "cell_type": "code",
   "execution_count": 145,
   "id": "53b2cc85-9eeb-45ed-8552-7589fe5cb61b",
   "metadata": {},
   "outputs": [
    {
     "data": {
      "text/html": [
       "<div>\n",
       "<style scoped>\n",
       "    .dataframe tbody tr th:only-of-type {\n",
       "        vertical-align: middle;\n",
       "    }\n",
       "\n",
       "    .dataframe tbody tr th {\n",
       "        vertical-align: top;\n",
       "    }\n",
       "\n",
       "    .dataframe thead th {\n",
       "        text-align: right;\n",
       "    }\n",
       "</style>\n",
       "<table border=\"1\" class=\"dataframe\">\n",
       "  <thead>\n",
       "    <tr style=\"text-align: right;\">\n",
       "      <th></th>\n",
       "      <th>AttendingPhysician</th>\n",
       "      <th>Provider</th>\n",
       "      <th>counts</th>\n",
       "      <th>Physician_Potential_Fraud</th>\n",
       "    </tr>\n",
       "  </thead>\n",
       "  <tbody>\n",
       "    <tr>\n",
       "      <th>0</th>\n",
       "      <td>PHY311002</td>\n",
       "      <td>PRV57495</td>\n",
       "      <td>1</td>\n",
       "      <td>Normal</td>\n",
       "    </tr>\n",
       "    <tr>\n",
       "      <th>1</th>\n",
       "      <td>PHY311008</td>\n",
       "      <td>PRV51868</td>\n",
       "      <td>2</td>\n",
       "      <td>Less suspicious</td>\n",
       "    </tr>\n",
       "    <tr>\n",
       "      <th>2</th>\n",
       "      <td>PHY311011</td>\n",
       "      <td>PRV55689</td>\n",
       "      <td>17</td>\n",
       "      <td>Fraud</td>\n",
       "    </tr>\n",
       "    <tr>\n",
       "      <th>3</th>\n",
       "      <td>PHY311017</td>\n",
       "      <td>PRV52045</td>\n",
       "      <td>1</td>\n",
       "      <td>Normal</td>\n",
       "    </tr>\n",
       "    <tr>\n",
       "      <th>4</th>\n",
       "      <td>PHY311021</td>\n",
       "      <td>PRV56259</td>\n",
       "      <td>1</td>\n",
       "      <td>Normal</td>\n",
       "    </tr>\n",
       "    <tr>\n",
       "      <th>...</th>\n",
       "      <td>...</td>\n",
       "      <td>...</td>\n",
       "      <td>...</td>\n",
       "      <td>...</td>\n",
       "    </tr>\n",
       "    <tr>\n",
       "      <th>20799</th>\n",
       "      <td>PHY434128</td>\n",
       "      <td>PRV51149</td>\n",
       "      <td>1</td>\n",
       "      <td>Normal</td>\n",
       "    </tr>\n",
       "    <tr>\n",
       "      <th>20800</th>\n",
       "      <td>PHY434140</td>\n",
       "      <td>PRV54739</td>\n",
       "      <td>9</td>\n",
       "      <td>Fraud</td>\n",
       "    </tr>\n",
       "    <tr>\n",
       "      <th>20801</th>\n",
       "      <td>PHY434142</td>\n",
       "      <td>PRV54566</td>\n",
       "      <td>3</td>\n",
       "      <td>More suspicious</td>\n",
       "    </tr>\n",
       "    <tr>\n",
       "      <th>20802</th>\n",
       "      <td>PHY434153</td>\n",
       "      <td>PRV51951</td>\n",
       "      <td>1</td>\n",
       "      <td>Normal</td>\n",
       "    </tr>\n",
       "    <tr>\n",
       "      <th>20803</th>\n",
       "      <td>PHY434158</td>\n",
       "      <td>PRV56444</td>\n",
       "      <td>3</td>\n",
       "      <td>More suspicious</td>\n",
       "    </tr>\n",
       "  </tbody>\n",
       "</table>\n",
       "<p>20804 rows × 4 columns</p>\n",
       "</div>"
      ],
      "text/plain": [
       "      AttendingPhysician  Provider  counts Physician_Potential_Fraud\n",
       "0              PHY311002  PRV57495       1                    Normal\n",
       "1              PHY311008  PRV51868       2           Less suspicious\n",
       "2              PHY311011  PRV55689      17                     Fraud\n",
       "3              PHY311017  PRV52045       1                    Normal\n",
       "4              PHY311021  PRV56259       1                    Normal\n",
       "...                  ...       ...     ...                       ...\n",
       "20799          PHY434128  PRV51149       1                    Normal\n",
       "20800          PHY434140  PRV54739       9                     Fraud\n",
       "20801          PHY434142  PRV54566       3           More suspicious\n",
       "20802          PHY434153  PRV51951       1                    Normal\n",
       "20803          PHY434158  PRV56444       3           More suspicious\n",
       "\n",
       "[20804 rows x 4 columns]"
      ]
     },
     "execution_count": 145,
     "metadata": {},
     "output_type": "execute_result"
    }
   ],
   "source": [
    "df_all_fraud"
   ]
  },
  {
   "cell_type": "code",
   "execution_count": 146,
   "id": "b128440a-dab9-4848-a433-08c070a73aea",
   "metadata": {},
   "outputs": [
    {
     "data": {
      "text/plain": [
       "Normal             8850\n",
       "Fraud              4644\n",
       "More suspicious    3710\n",
       "Less suspicious    3600\n",
       "Name: Physician_Potential_Fraud, dtype: int64"
      ]
     },
     "execution_count": 146,
     "metadata": {},
     "output_type": "execute_result"
    }
   ],
   "source": [
    "df_all_fraud['Physician_Potential_Fraud'].value_counts()"
   ]
  },
  {
   "cell_type": "code",
   "execution_count": 147,
   "id": "cd9d7d47-503b-4c52-99a7-ddd87b46a6f7",
   "metadata": {},
   "outputs": [
    {
     "data": {
      "text/plain": [
       "<AxesSubplot:ylabel='Physician_Potential_Fraud'>"
      ]
     },
     "execution_count": 147,
     "metadata": {},
     "output_type": "execute_result"
    },
    {
     "data": {
      "image/png": "[encoded data removed]",
      "text/plain": [
       "<Figure size 600x500 with 1 Axes>"
      ]
     },
     "metadata": {},
     "output_type": "display_data"
    }
   ],
   "source": [
    "target = df_all_fraud['Physician_Potential_Fraud']\n",
    "target.value_counts().plot.pie(autopct='%.2f',figsize=(6, 5))"
   ]
  },
  {
   "cell_type": "code",
   "execution_count": 151,
   "id": "569c4237-6219-42ea-9792-996748d7a93d",
   "metadata": {},
   "outputs": [],
   "source": [
    "df_all['Physician_Potential_Fraud'] = df_all_fraud['Physician_Potential_Fraud']"
   ]
  },
  {
   "cell_type": "code",
   "execution_count": 155,
   "id": "5c38ac4e-ee41-403b-b921-5bd3f0495c3a",
   "metadata": {},
   "outputs": [],
   "source": [
    "df_all['Physician_Potential_Fraud'].fillna(\"None\", inplace=True) # why should this be done ?"
   ]
  },
  {
   "cell_type": "code",
   "execution_count": 157,
   "id": "21ca52e0-4606-4b7b-82e9-d72eb6e1295f",
   "metadata": {},
   "outputs": [
    {
     "data": {
      "text/plain": [
       "0                  Normal\n",
       "1         Less suspicious\n",
       "2                   Fraud\n",
       "3                  Normal\n",
       "4                  Normal\n",
       "               ...       \n",
       "517732               None\n",
       "517733               None\n",
       "517734               None\n",
       "517735               None\n",
       "517736               None\n",
       "Name: Physician_Potential_Fraud, Length: 558211, dtype: object"
      ]
     },
     "execution_count": 157,
     "metadata": {},
     "output_type": "execute_result"
    }
   ],
   "source": [
    "df_all['Physician_Potential_Fraud']"
   ]
  },
  {
   "cell_type": "markdown",
   "id": "ab5b294d-290a-4a9c-bd4a-c951f116dec7",
   "metadata": {},
   "source": [
    "# Modeling"
   ]
  },
  {
   "cell_type": "code",
   "execution_count": null,
   "id": "41c3f924-497f-408b-b2b6-38a7f32887cb",
   "metadata": {},
   "outputs": [],
   "source": []
  },
  {
   "cell_type": "code",
   "execution_count": null,
   "id": "f15adf67-b47b-4075-a06b-1b6ec82fadcd",
   "metadata": {},
   "outputs": [],
   "source": []
  }
 ],
 "metadata": {
  "kernelspec": {
   "display_name": "Python 3 (ipykernel)",
   "language": "python",
   "name": "python3"
  },
  "language_info": {
   "codemirror_mode": {
    "name": "ipython",
    "version": 3
   },
   "file_extension": ".py",
   "mimetype": "text/x-python",
   "name": "python",
   "nbconvert_exporter": "python",
   "pygments_lexer": "ipython3",
   "version": "3.9.13"
  }
 },
 "nbformat": 4,
 "nbformat_minor": 5
}
